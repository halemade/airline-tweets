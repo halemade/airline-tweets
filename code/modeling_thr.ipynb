{
 "cells": [
  {
   "cell_type": "code",
   "execution_count": 3,
   "id": "75b38b56-7e7f-440d-af05-2687e41f5926",
   "metadata": {},
   "outputs": [],
   "source": [
    "#import packages\n",
    "import folium\n",
    "import pandas as pd\n",
    "import matplotlib.pyplot as plt\n",
    "import nltk\n",
    "from nltk.corpus import stopwords\n",
    "import re\n",
    "import string\n",
    "from sklearn.model_selection import train_test_split\n",
    "from sklearn.feature_extraction.text import CountVectorizer, TfidfVectorizer,HashingVectorizer\n",
    "from nltk.probability import FreqDist\n",
    "from nltk.tokenize import regexp_tokenize,word_tokenize,RegexpTokenizer\n",
    "from nltk import pos_tag\n",
    "from nltk.corpus import wordnet\n",
    "from sklearn.ensemble import RandomForestClassifier\n",
    "from sklearn.naive_bayes import MultinomialNB,GaussianNB"
   ]
  },
  {
   "cell_type": "code",
   "execution_count": 4,
   "id": "1b7f2cdd-340b-4f04-bdb1-5e4c013f05e3",
   "metadata": {},
   "outputs": [],
   "source": [
    "#define function to do the cleanup\n",
    "def cleanup(mystr):\n",
    "    lemmatizer= nltk.stem.WordNetLemmatizer()\n",
    "    smallwords = stopwords.words('english')\n",
    "    if mystr != None:\n",
    "        mappingtbl = mystr.maketrans('','',string.punctuation)\n",
    "        newstr = mystr.translate(mappingtbl)\n",
    "        new = newstr.split()\n",
    "        cleaned = []\n",
    "        for item in new:\n",
    "            if item not in smallwords:\n",
    "                tweet = item.lower()\n",
    "                lemm = [lemmatizer.lemmatize(word) for word in tweet]\n",
    "                cleaned.append(lemm)\n",
    "        return cleaned"
   ]
  },
  {
   "cell_type": "code",
   "execution_count": 8,
   "id": "9a20fb3c-4646-40a3-9905-58ff921d2b6e",
   "metadata": {},
   "outputs": [],
   "source": [
    "df = pd.read_csv('./data/Tweets.csv')"
   ]
  },
  {
   "cell_type": "code",
   "execution_count": 9,
   "id": "1e4963ca-9540-4469-82d9-5485faa8999c",
   "metadata": {},
   "outputs": [],
   "source": [
    "df.drop(['tweet_id','negativereason_gold','airline_sentiment_gold','negativereason','airline_sentiment_confidence','negativereason_confidence'],axis=1,inplace=True)"
   ]
  },
  {
   "cell_type": "code",
   "execution_count": 10,
   "id": "72a8f9ed-ebbd-4747-989f-e3bcc99114d4",
   "metadata": {},
   "outputs": [],
   "source": [
    "#function to remove -008 from data column\n",
    "def fix_date(dateobject):\n",
    "    date = str(dateobject)\n",
    "    return date[0:19]"
   ]
  },
  {
   "cell_type": "code",
   "execution_count": 11,
   "id": "f45c2954-acfa-4abd-b85f-aa469ca5b0cd",
   "metadata": {},
   "outputs": [],
   "source": [
    "df['tweet_created'] = pd.to_datetime(df['tweet_created'].map(lambda x:fix_date(x)),infer_datetime_format=True)"
   ]
  },
  {
   "cell_type": "code",
   "execution_count": 13,
   "id": "03e266d7-e01f-4eb0-8551-fe9f51ef126c",
   "metadata": {},
   "outputs": [],
   "source": [
    "X = df.drop('airline_sentiment',axis=1)\n",
    "y = df.airline_sentiment\n",
    "X_train,X_test,y_train,y_test = train_test_split(X,y,random_state=23,test_size=.2)"
   ]
  },
  {
   "cell_type": "code",
   "execution_count": null,
   "id": "b8261c55-a2c2-435f-a075-e38808d827c9",
   "metadata": {},
   "outputs": [],
   "source": []
  }
 ],
 "metadata": {
  "kernelspec": {
   "display_name": "Python 3 (ipykernel)",
   "language": "python",
   "name": "python3"
  },
  "language_info": {
   "codemirror_mode": {
    "name": "ipython",
    "version": 3
   },
   "file_extension": ".py",
   "mimetype": "text/x-python",
   "name": "python",
   "nbconvert_exporter": "python",
   "pygments_lexer": "ipython3",
   "version": "3.7.9"
  }
 },
 "nbformat": 4,
 "nbformat_minor": 5
}
